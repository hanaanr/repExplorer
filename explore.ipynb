{
  "nbformat": 4,
  "nbformat_minor": 0,
  "metadata": {
    "colab": {
      "provenance": []
    },
    "kernelspec": {
      "name": "python3",
      "display_name": "Python 3"
    },
    "language_info": {
      "name": "python"
    }
  },
  "cells": [
    {
      "cell_type": "code",
      "source": [
        "!pip install dash dash_bootstrap_components geopandas plotly\n"
      ],
      "metadata": {
        "colab": {
          "base_uri": "https://localhost:8080/"
        },
        "id": "_SeXkugFb5D7",
        "outputId": "22579781-9907-414e-e957-9d520f03645a"
      },
      "execution_count": 1,
      "outputs": [
        {
          "output_type": "stream",
          "name": "stdout",
          "text": [
            "Collecting dash\n",
            "  Downloading dash-2.18.2-py3-none-any.whl.metadata (10 kB)\n",
            "Collecting dash_bootstrap_components\n",
            "  Downloading dash_bootstrap_components-1.7.1-py3-none-any.whl.metadata (17 kB)\n",
            "Requirement already satisfied: geopandas in /usr/local/lib/python3.11/dist-packages (1.0.1)\n",
            "Requirement already satisfied: plotly in /usr/local/lib/python3.11/dist-packages (5.24.1)\n",
            "Collecting Flask<3.1,>=1.0.4 (from dash)\n",
            "  Downloading flask-3.0.3-py3-none-any.whl.metadata (3.2 kB)\n",
            "Collecting Werkzeug<3.1 (from dash)\n",
            "  Downloading werkzeug-3.0.6-py3-none-any.whl.metadata (3.7 kB)\n",
            "Collecting dash-html-components==2.0.0 (from dash)\n",
            "  Downloading dash_html_components-2.0.0-py3-none-any.whl.metadata (3.8 kB)\n",
            "Collecting dash-core-components==2.0.0 (from dash)\n",
            "  Downloading dash_core_components-2.0.0-py3-none-any.whl.metadata (2.9 kB)\n",
            "Collecting dash-table==5.0.0 (from dash)\n",
            "  Downloading dash_table-5.0.0-py3-none-any.whl.metadata (2.4 kB)\n",
            "Requirement already satisfied: importlib-metadata in /usr/local/lib/python3.11/dist-packages (from dash) (8.5.0)\n",
            "Requirement already satisfied: typing-extensions>=4.1.1 in /usr/local/lib/python3.11/dist-packages (from dash) (4.12.2)\n",
            "Requirement already satisfied: requests in /usr/local/lib/python3.11/dist-packages (from dash) (2.32.3)\n",
            "Collecting retrying (from dash)\n",
            "  Downloading retrying-1.3.4-py3-none-any.whl.metadata (6.9 kB)\n",
            "Requirement already satisfied: nest-asyncio in /usr/local/lib/python3.11/dist-packages (from dash) (1.6.0)\n",
            "Requirement already satisfied: setuptools in /usr/local/lib/python3.11/dist-packages (from dash) (75.1.0)\n",
            "Requirement already satisfied: numpy>=1.22 in /usr/local/lib/python3.11/dist-packages (from geopandas) (1.26.4)\n",
            "Requirement already satisfied: pyogrio>=0.7.2 in /usr/local/lib/python3.11/dist-packages (from geopandas) (0.10.0)\n",
            "Requirement already satisfied: packaging in /usr/local/lib/python3.11/dist-packages (from geopandas) (24.2)\n",
            "Requirement already satisfied: pandas>=1.4.0 in /usr/local/lib/python3.11/dist-packages (from geopandas) (2.2.2)\n",
            "Requirement already satisfied: pyproj>=3.3.0 in /usr/local/lib/python3.11/dist-packages (from geopandas) (3.7.0)\n",
            "Requirement already satisfied: shapely>=2.0.0 in /usr/local/lib/python3.11/dist-packages (from geopandas) (2.0.6)\n",
            "Requirement already satisfied: tenacity>=6.2.0 in /usr/local/lib/python3.11/dist-packages (from plotly) (9.0.0)\n",
            "Requirement already satisfied: Jinja2>=3.1.2 in /usr/local/lib/python3.11/dist-packages (from Flask<3.1,>=1.0.4->dash) (3.1.5)\n",
            "Requirement already satisfied: itsdangerous>=2.1.2 in /usr/local/lib/python3.11/dist-packages (from Flask<3.1,>=1.0.4->dash) (2.2.0)\n",
            "Requirement already satisfied: click>=8.1.3 in /usr/local/lib/python3.11/dist-packages (from Flask<3.1,>=1.0.4->dash) (8.1.8)\n",
            "Requirement already satisfied: blinker>=1.6.2 in /usr/local/lib/python3.11/dist-packages (from Flask<3.1,>=1.0.4->dash) (1.9.0)\n",
            "Requirement already satisfied: python-dateutil>=2.8.2 in /usr/local/lib/python3.11/dist-packages (from pandas>=1.4.0->geopandas) (2.8.2)\n",
            "Requirement already satisfied: pytz>=2020.1 in /usr/local/lib/python3.11/dist-packages (from pandas>=1.4.0->geopandas) (2024.2)\n",
            "Requirement already satisfied: tzdata>=2022.7 in /usr/local/lib/python3.11/dist-packages (from pandas>=1.4.0->geopandas) (2024.2)\n",
            "Requirement already satisfied: certifi in /usr/local/lib/python3.11/dist-packages (from pyogrio>=0.7.2->geopandas) (2024.12.14)\n",
            "Requirement already satisfied: MarkupSafe>=2.1.1 in /usr/local/lib/python3.11/dist-packages (from Werkzeug<3.1->dash) (3.0.2)\n",
            "Requirement already satisfied: zipp>=3.20 in /usr/local/lib/python3.11/dist-packages (from importlib-metadata->dash) (3.21.0)\n",
            "Requirement already satisfied: charset-normalizer<4,>=2 in /usr/local/lib/python3.11/dist-packages (from requests->dash) (3.4.1)\n",
            "Requirement already satisfied: idna<4,>=2.5 in /usr/local/lib/python3.11/dist-packages (from requests->dash) (3.10)\n",
            "Requirement already satisfied: urllib3<3,>=1.21.1 in /usr/local/lib/python3.11/dist-packages (from requests->dash) (2.3.0)\n",
            "Requirement already satisfied: six>=1.7.0 in /usr/local/lib/python3.11/dist-packages (from retrying->dash) (1.17.0)\n",
            "Downloading dash-2.18.2-py3-none-any.whl (7.8 MB)\n",
            "\u001b[2K   \u001b[90m━━━━━━━━━━━━━━━━━━━━━━━━━━━━━━━━━━━━━━━━\u001b[0m \u001b[32m7.8/7.8 MB\u001b[0m \u001b[31m24.4 MB/s\u001b[0m eta \u001b[36m0:00:00\u001b[0m\n",
            "\u001b[?25hDownloading dash_core_components-2.0.0-py3-none-any.whl (3.8 kB)\n",
            "Downloading dash_html_components-2.0.0-py3-none-any.whl (4.1 kB)\n",
            "Downloading dash_table-5.0.0-py3-none-any.whl (3.9 kB)\n",
            "Downloading dash_bootstrap_components-1.7.1-py3-none-any.whl (229 kB)\n",
            "\u001b[2K   \u001b[90m━━━━━━━━━━━━━━━━━━━━━━━━━━━━━━━━━━━━━━━━\u001b[0m \u001b[32m229.3/229.3 kB\u001b[0m \u001b[31m11.7 MB/s\u001b[0m eta \u001b[36m0:00:00\u001b[0m\n",
            "\u001b[?25hDownloading flask-3.0.3-py3-none-any.whl (101 kB)\n",
            "\u001b[2K   \u001b[90m━━━━━━━━━━━━━━━━━━━━━━━━━━━━━━━━━━━━━━━━\u001b[0m \u001b[32m101.7/101.7 kB\u001b[0m \u001b[31m5.0 MB/s\u001b[0m eta \u001b[36m0:00:00\u001b[0m\n",
            "\u001b[?25hDownloading werkzeug-3.0.6-py3-none-any.whl (227 kB)\n",
            "\u001b[2K   \u001b[90m━━━━━━━━━━━━━━━━━━━━━━━━━━━━━━━━━━━━━━━━\u001b[0m \u001b[32m228.0/228.0 kB\u001b[0m \u001b[31m12.9 MB/s\u001b[0m eta \u001b[36m0:00:00\u001b[0m\n",
            "\u001b[?25hDownloading retrying-1.3.4-py3-none-any.whl (11 kB)\n",
            "Installing collected packages: dash-table, dash-html-components, dash-core-components, Werkzeug, retrying, Flask, dash, dash_bootstrap_components\n",
            "  Attempting uninstall: Werkzeug\n",
            "    Found existing installation: Werkzeug 3.1.3\n",
            "    Uninstalling Werkzeug-3.1.3:\n",
            "      Successfully uninstalled Werkzeug-3.1.3\n",
            "  Attempting uninstall: Flask\n",
            "    Found existing installation: Flask 3.1.0\n",
            "    Uninstalling Flask-3.1.0:\n",
            "      Successfully uninstalled Flask-3.1.0\n",
            "Successfully installed Flask-3.0.3 Werkzeug-3.0.6 dash-2.18.2 dash-core-components-2.0.0 dash-html-components-2.0.0 dash-table-5.0.0 dash_bootstrap_components-1.7.1 retrying-1.3.4\n"
          ]
        }
      ]
    },
    {
      "cell_type": "code",
      "execution_count": 2,
      "metadata": {
        "id": "PHPHSIeQBFdf"
      },
      "outputs": [],
      "source": [
        "import pandas as pd\n",
        "import numpy as np\n",
        "import geopandas as gpd\n",
        "import matplotlib.pyplot as plt\n",
        "import matplotlib.colors as mcolors\n",
        "import plotly.express as px\n",
        "import plotly.graph_objects as go\n",
        "from plotly.subplots import make_subplots\n",
        "from dash import Dash, dcc, html, Input, Output\n",
        "import dash_bootstrap_components as dbc\n",
        "import fsspec\n",
        "import webbrowser"
      ]
    },
    {
      "cell_type": "code",
      "source": [
        "world = gpd.read_file('ne_110m_admin_0_countries.shp')"
      ],
      "metadata": {
        "id": "rIydP3z2SDsO"
      },
      "execution_count": 3,
      "outputs": []
    },
    {
      "cell_type": "code",
      "source": [
        "df = pd.read_csv(\"spy3.csv\")"
      ],
      "metadata": {
        "id": "r7voE7TECvaO"
      },
      "execution_count": 4,
      "outputs": []
    },
    {
      "cell_type": "code",
      "source": [
        "df.columns"
      ],
      "metadata": {
        "id": "cPnqCmXetdeN",
        "colab": {
          "base_uri": "https://localhost:8080/"
        },
        "outputId": "481cb97d-2b0f-4d31-8c16-c83ae52f12fb"
      },
      "execution_count": 5,
      "outputs": [
        {
          "output_type": "execute_result",
          "data": {
            "text/plain": [
              "Index(['Country of deployment', 'Region',\n",
              "       'V-Dem Electoral Democracy Index 2021', 'Digital Repression Index 2021',\n",
              "       'V-Dem Regime Type 2021', 'Category of technology', 'Period of use',\n",
              "       'Year of disclosure', 'Commercial Entity', 'Country of origin',\n",
              "       'Description', 'Lower confidence sources', 'Source 1', 'Source 2',\n",
              "       'Source 3', 'Source 4', 'Source 5', 'Source 6', 'Source 7',\n",
              "       'Unnamed: 19', 'Unnamed: 20'],\n",
              "      dtype='object')"
            ]
          },
          "metadata": {},
          "execution_count": 5
        }
      ]
    },
    {
      "cell_type": "code",
      "source": [
        "regime_type_mapping = {\n",
        "    'LD': 'Liberal Democracy',\n",
        "    'ED': 'Electoral Democracy',\n",
        "    'EA': 'Electoral Autocracy',\n",
        "    'CA': 'Closed Autocracy'\n",
        "}\n",
        "\n",
        "df['V-Dem Regime Type 2021'] = df['V-Dem Regime Type 2021'].map(regime_type_mapping)\n"
      ],
      "metadata": {
        "id": "EZAqe8MWqYso"
      },
      "execution_count": 6,
      "outputs": []
    },
    {
      "cell_type": "code",
      "source": [
        "world = world.rename(columns={'ADMIN': 'Country of deployment'})\n",
        "merged = world.merge(df[['Country of deployment', 'Digital Repression Index 2021', 'V-Dem Electoral Democracy Index 2021', 'V-Dem Regime Type 2021']],\n",
        "                         on='Country of deployment',\n",
        "                         how='left')"
      ],
      "metadata": {
        "id": "AuAjyYy6uHlq"
      },
      "execution_count": 7,
      "outputs": []
    },
    {
      "cell_type": "code",
      "source": [
        "cmap = plt.cm.Reds\n",
        "\n",
        "norm = mcolors.Normalize(vmin=merged['Digital Repression Index 2021'].min(),\n",
        "                         vmax=merged['Digital Repression Index 2021'].max())"
      ],
      "metadata": {
        "id": "dcmfySZYuIKc"
      },
      "execution_count": 8,
      "outputs": []
    },
    {
      "cell_type": "code",
      "source": [
        "columns_of_interest = ['Country of deployment', 'Category of technology', 'Period of use',\n",
        "                       'Year of disclosure', 'Commercial Entity', 'Country of origin',\n",
        "                       'Description']\n",
        "df_selected = df[columns_of_interest]\n",
        "\n",
        "app = Dash(__name__, external_stylesheets=[dbc.themes.BOOTSTRAP])\n",
        "\n",
        "# Define color scheme\n",
        "color_scale = px.colors.sequential.YlOrRd\n",
        "\n",
        "app.layout = html.Div([\n",
        "    html.H1(\"Digital Repression Explorer\", className=\"text-center mb-4\"),\n",
        "\n",
        "    # Intro section\n",
        "    html.Div([\n",
        "        html.P(\"This interactive tool visualizes global trends in digital technologies that can potentially impact civil liberties and privacy. It shows how different countries use various digital tools and their relationship with democratic indicators. By exploring this data, we can better understand the complex interplay between technology, governance, and individual freedoms in the digital age.\",\n",
        "               className=\"lead\"\n",
        "        )\n",
        "    ], style={'background-color': '#f8f9fa', 'padding': '20px', 'border-radius': '5px', 'margin-bottom': '20px'}),\n",
        "\n",
        "    dcc.Graph(id='main-graph'),\n",
        "    html.Div([\n",
        "        html.Label(\"Select a country:\", className=\"mr-2\"),\n",
        "        dcc.Dropdown(\n",
        "            id='country-dropdown',\n",
        "            options=[{'label': 'All', 'value': 'All'}] +\n",
        "                    [{'label': c, 'value': c} for c in df_selected['Country of deployment'].unique()],\n",
        "            value='All',\n",
        "            style={'width': '50%'}\n",
        "        )\n",
        "    ], style={'margin': '20px 0'}),\n",
        "    dbc.Row([\n",
        "        dbc.Col(dcc.Graph(id='bar-chart'), width=4),\n",
        "        dbc.Col(dcc.Graph(id='details-table'), width=8),\n",
        "    ]),\n",
        "\n",
        "    # Footer section\n",
        "    html.Footer([\n",
        "        html.Hr(),\n",
        "        html.P([\n",
        "            \"Source: Feldstein, Steven; Kot, Brian (2023), \",\n",
        "            html.Q(\"Global Inventory of Commercial Spyware & Digital Forensics\"),\n",
        "            \", Mendeley Data, V10, doi: 10.17632/csvhpkt8tm.10\"\n",
        "        ], className=\"text-muted text-center\")\n",
        "    ], className=\"mt-4\")\n",
        "])\n",
        "\n",
        "@app.callback(\n",
        "    [Output('main-graph', 'figure'),\n",
        "     Output('bar-chart', 'figure'),\n",
        "     Output('details-table', 'figure')],\n",
        "    [Input('country-dropdown', 'value')]\n",
        ")\n",
        "def update_graphs(selected_country):\n",
        "    # Choropleth map\n",
        "    fig_map = px.choropleth(merged,\n",
        "        geojson=merged.geometry,\n",
        "        locations=merged.index,\n",
        "        color='Digital Repression Index 2021',\n",
        "        color_continuous_scale=color_scale,\n",
        "        range_color=(merged['Digital Repression Index 2021'].min(), merged['Digital Repression Index 2021'].max()),\n",
        "        hover_name='Country of deployment',\n",
        "        hover_data={\n",
        "            'Digital Repression Index 2021': ':.2f',\n",
        "            'V-Dem Electoral Democracy Index 2021': ':.2f',\n",
        "            'V-Dem Regime Type 2021': True\n",
        "        },\n",
        "        labels={\n",
        "            'Digital Repression Index 2021': 'Digital Repression Index',\n",
        "            'V-Dem Electoral Democracy Index 2021': 'Electoral Democracy Index',\n",
        "            'V-Dem Regime Type 2021': 'Regime Type'\n",
        "        },\n",
        "        projection='equirectangular'\n",
        "    )\n",
        "\n",
        "    fig_map.update_traces(\n",
        "        hovertemplate=\"<b>%{hovertext}</b><br><br>\" +\n",
        "        \"Digital Repression Index: %{customdata[0]}<br>\" +\n",
        "        \"Electoral Democracy Index: %{customdata[1]}<br>\" +\n",
        "        \"Regime Type: %{customdata[2]}<extra></extra>\"\n",
        "    )\n",
        "\n",
        "    fig_map.update_geos(showcoastlines=False,\n",
        "                        showland=True,\n",
        "                        landcolor=\"lightgrey\",\n",
        "                        showcountries=False,\n",
        "                        showframe=False,\n",
        "                        projection_type='equirectangular',\n",
        "                        lataxis_range=[-90, 90],\n",
        "                        lonaxis_range=[-180, 180])\n",
        "\n",
        "    fig_map.update_traces(marker_line_width=0)\n",
        "\n",
        "    fig_map.update_layout(\n",
        "        height=600,\n",
        "        margin={\"r\":0,\"t\":30,\"l\":0,\"b\":0},\n",
        "        geo=dict(projection_scale=1),\n",
        "        font=dict(family=\"Helvetica\")\n",
        "    )\n",
        "\n",
        "    # Bar chart\n",
        "    if selected_country == 'All':\n",
        "        df_filtered = df_selected\n",
        "    else:\n",
        "        df_filtered = df_selected[df_selected['Country of deployment'] == selected_country]\n",
        "\n",
        "    top_tech = df_filtered['Category of technology'].value_counts().head(10)\n",
        "    fig_bar = go.Figure(go.Bar(\n",
        "        x=top_tech.values,\n",
        "        y=top_tech.index,\n",
        "        orientation='h',\n",
        "        marker_color='#FFA15A'\n",
        "    ))\n",
        "    fig_bar.update_layout(\n",
        "        title='Top Technologies',\n",
        "        height=400,\n",
        "        margin=dict(l=0, r=0, t=30, b=0),\n",
        "        yaxis=dict(autorange=\"reversed\"),\n",
        "        font=dict(family=\"Helvetica\"),\n",
        "        plot_bgcolor='rgba(0,0,0,0)',\n",
        "        paper_bgcolor='rgba(0,0,0,0)'\n",
        "    )\n",
        "\n",
        "    # Table\n",
        "    fig_table = go.Figure(go.Table(\n",
        "        header=dict(\n",
        "            values=columns_of_interest,\n",
        "            fill_color='#FFA15A',\n",
        "            align='left',\n",
        "            font=dict(color='white', size=12, family=\"Helvetica\")\n",
        "        ),\n",
        "        cells=dict(\n",
        "            values=[df_filtered[col] for col in columns_of_interest],\n",
        "            fill_color='rgba(255, 255, 255, 0.7)',\n",
        "            align='left',\n",
        "            font=dict(color='black', size=11, family=\"Helvetica\"),\n",
        "            height=30  # Increase row height\n",
        "        )\n",
        "    ))\n",
        "\n",
        "    # Adjust column widths\n",
        "    column_widths = [100, 100, 80, 80, 100, 100, 300]  # Adjust these values as needed\n",
        "    fig_table.update_layout(\n",
        "        title='Details',\n",
        "        height=None,\n",
        "        margin=dict(l=0, r=0, t=30, b=0),\n",
        "        font=dict(family=\"Helvetica\"),\n",
        "        autosize=True,\n",
        "        width=None,\n",
        "    )\n",
        "    fig_table.update_traces(\n",
        "        cells=dict(\n",
        "            align=['left'] * len(columns_of_interest),\n",
        "            font=dict(color='black', size=11, family=\"Helvetica\"),\n",
        "            height=30\n",
        "        ),\n",
        "        columnwidth=column_widths\n",
        "    )\n",
        "\n",
        "    return fig_map, fig_bar, fig_table\n",
        "\n",
        "if __name__ == '__main__':\n",
        "    port = 8051\n",
        "    webbrowser.open_new_tab(f'http://localhost:{port}')\n",
        "    app.run_server(debug=True, port=port)\n"
      ],
      "metadata": {
        "colab": {
          "base_uri": "https://localhost:8080/",
          "height": 671
        },
        "id": "pgPS_a-rdkch",
        "outputId": "dfeee5f5-0d21-4a26-d49b-ca65fe0fa279"
      },
      "execution_count": 9,
      "outputs": [
        {
          "output_type": "display_data",
          "data": {
            "text/plain": [
              "<IPython.core.display.Javascript object>"
            ],
            "application/javascript": [
              "(async (port, path, width, height, cache, element) => {\n",
              "    if (!google.colab.kernel.accessAllowed && !cache) {\n",
              "      return;\n",
              "    }\n",
              "    element.appendChild(document.createTextNode(''));\n",
              "    const url = await google.colab.kernel.proxyPort(port, {cache});\n",
              "    const iframe = document.createElement('iframe');\n",
              "    iframe.src = new URL(path, url).toString();\n",
              "    iframe.height = height;\n",
              "    iframe.width = width;\n",
              "    iframe.style.border = 0;\n",
              "    iframe.allow = [\n",
              "        'accelerometer',\n",
              "        'autoplay',\n",
              "        'camera',\n",
              "        'clipboard-read',\n",
              "        'clipboard-write',\n",
              "        'gyroscope',\n",
              "        'magnetometer',\n",
              "        'microphone',\n",
              "        'serial',\n",
              "        'usb',\n",
              "        'xr-spatial-tracking',\n",
              "    ].join('; ');\n",
              "    element.appendChild(iframe);\n",
              "  })(8051, \"/\", \"100%\", 650, false, window.element)"
            ]
          },
          "metadata": {}
        }
      ]
    }
  ]
}